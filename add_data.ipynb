{
 "cells": [
  {
   "cell_type": "code",
   "execution_count": 7,
   "metadata": {},
   "outputs": [],
   "source": [
    "from flask import Flask\n",
    "from flask_sqlalchemy import SQLAlchemy\n",
    "from app import app, db, Company, Acquisition\n",
    "import pandas as pd\n",
    "import datetime"
   ]
  },
  {
   "cell_type": "code",
   "execution_count": 8,
   "metadata": {},
   "outputs": [],
   "source": [
    "# IMPORTANT NOTE:\n",
    "# Data is from https://www.kaggle.com/datasets/joebeachcapital/technology-mergers-and-acquisitions\n",
    "# The data provided on kaggle does NOT contain the required lattitude and longitude data.\n",
    "# To add the lattitude and longitude data, I used https://www.geoapify.com/tools/geocoding-online\n",
    "# Note that with a free sub, this requires you to manually do it in batches of 500\n",
    "# Ideally this would be replaced with a proper API for geocoding, but this is a quick and dirty solution\n",
    "\n",
    "acquisitions = pd.read_csv('data/acquisitions.csv', header=0, delimiter=',')\n",
    "acquired = pd.read_csv('data/acquired.csv', header=0, delimiter=',')\n",
    "acquiring = pd.read_csv('data/acquiring.csv', header=0, delimiter=',')"
   ]
  },
  {
   "cell_type": "code",
   "execution_count": 9,
   "metadata": {},
   "outputs": [
    {
     "name": "stdout",
     "output_type": "stream",
     "text": [
      "Acquired headers:  Index(['Company', 'CrunchBase Profile', 'Image', 'Tagline', 'Year Founded',\n",
      "       'Market Categories', 'Address (HQ)', 'City (HQ)', 'State / Region (HQ)',\n",
      "       'Country (HQ)', 'lat', 'lon', 'Description', 'Homepage', 'Twitter',\n",
      "       'Acquired by', 'Acquisitions ID', 'API'],\n",
      "      dtype='object')\n",
      "Acquiring headers:  Index(['Acquiring Company', 'CrunchBase Profile', 'Image', 'Tagline',\n",
      "       'Market Categories', 'Year Founded', 'IPO', 'Founders',\n",
      "       'Number of Employees', 'Number of Employees (year of last update)',\n",
      "       'Total Funding ($)', 'Number of Acquisitions', 'Board Members',\n",
      "       'Address (HQ)', 'City (HQ)', 'State / Region (HQ)', 'Country (HQ)',\n",
      "       'Description', 'Homepage', 'Twitter', 'Acquired Companies',\n",
      "       'Acquisitions ID', 'API', 'lat', 'lon'],\n",
      "      dtype='object')\n"
     ]
    }
   ],
   "source": [
    "print(\"Acquired headers: \", acquired.columns)\n",
    "print(\"Acquiring headers: \", acquiring.columns)"
   ]
  },
  {
   "cell_type": "code",
   "execution_count": 10,
   "metadata": {},
   "outputs": [],
   "source": [
    "with app.app_context():\n",
    "\n",
    "    for index, row in acquiring.iterrows():\n",
    "        company = Company(\n",
    "            name = row['Acquiring Company'],\n",
    "            crunchbase_url = row['CrunchBase Profile'],\n",
    "            image_url = row['Image'],\n",
    "            tagline = row['Tagline'],\n",
    "            year_founded = row['Year Founded'],\n",
    "            year_ipo = row['IPO'],\n",
    "            number_of_employees = row['Number of Employees'],\n",
    "            market_category = row['Market Categories'],\n",
    "            address = row['Address (HQ)'],\n",
    "            description = row['Description'],\n",
    "            website = row['Homepage'],\n",
    "            longitude = row['lon'],\n",
    "            latitude = row['lat']\n",
    "        )\n",
    "\n",
    "        if not Company.query.filter_by(name=company.name).first():\n",
    "            db.session.add(company)\n",
    "            db.session.commit()"
   ]
  },
  {
   "cell_type": "code",
   "execution_count": 11,
   "metadata": {},
   "outputs": [],
   "source": [
    "with app.app_context():\n",
    "    for index, row in acquired.iterrows():\n",
    "        company = Company(\n",
    "            name = row['Company'],\n",
    "            crunchbase_url = row['CrunchBase Profile'],\n",
    "            image_url = row['Image'],\n",
    "            tagline = row['Tagline'],\n",
    "            year_founded = row['Year Founded'],\n",
    "            year_ipo = None,\n",
    "            number_of_employees = None,\n",
    "            market_category = row['Market Categories'],\n",
    "            address = row['Address (HQ)'],\n",
    "            description = row['Description'],\n",
    "            website = row['Homepage'],\n",
    "            longitude = row['lon'],\n",
    "            latitude = row['lat']\n",
    "        )\n",
    "        \n",
    "        if not Company.query.filter_by(name=company.name).first():\n",
    "            db.session.add(company)\n",
    "            db.session.commit()"
   ]
  },
  {
   "cell_type": "code",
   "execution_count": 12,
   "metadata": {},
   "outputs": [
    {
     "name": "stdout",
     "output_type": "stream",
     "text": [
      "Total number of companies:  1646\n",
      "\n",
      "First 10 companies: \n",
      "Adobe\n",
      "Amazon\n",
      "AOL\n",
      "Apple\n",
      "AT&T\n",
      "BlackBerry\n",
      "CA Technologies\n",
      "Cisco Systems\n",
      "Comcast\n",
      "Dell\n"
     ]
    }
   ],
   "source": [
    "# get first 10 rows of companies\n",
    "with app.app_context():\n",
    "    companies = Company.query.all()\n",
    "    print(\"Total number of companies: \", len(companies))\n",
    "    print(\"\\nFirst 10 companies: \")\n",
    "    for company in companies[:10]:\n",
    "        print(company.name)"
   ]
  },
  {
   "cell_type": "code",
   "execution_count": 13,
   "metadata": {},
   "outputs": [
    {
     "name": "stdout",
     "output_type": "stream",
     "text": [
      "Acquisition headers:  Index(['Title', 'Acquired Company', 'Acquiring Company',\n",
      "       'Year of acquisition announcement', 'Deal announced on', 'Price',\n",
      "       'Status', 'Terms', 'Acquisition Profile', 'News', 'News Link'],\n",
      "      dtype='object')\n"
     ]
    }
   ],
   "source": [
    "print(\"Acquisition headers: \", acquisitions.columns)"
   ]
  },
  {
   "cell_type": "code",
   "execution_count": 14,
   "metadata": {},
   "outputs": [
    {
     "name": "stdout",
     "output_type": "stream",
     "text": [
      "Error adding acquisition: \n",
      "Purchased company:  Tellme\n",
      "Purchasing company:  [24]7\n",
      "\n"
     ]
    },
    {
     "name": "stderr",
     "output_type": "stream",
     "text": [
      "/var/folders/p4/bq3lmyls11s56yy7r2vv6c0r0000gn/T/ipykernel_36785/205144347.py:31: SAWarning: Object of type <Acquisition> not in session, add operation along 'Company.acquisitions_as_purchased' will not proceed (This warning originated from the Session 'autoflush' process, which was invoked automatically in response to a user-initiated operation.)\n",
      "  if not Acquisition.query.filter_by(purchased_company_id=acquisition.purchased_company_id, purchasing_company_id=acquisition.purchasing_company_id).first():\n",
      "/var/folders/p4/bq3lmyls11s56yy7r2vv6c0r0000gn/T/ipykernel_36785/205144347.py:31: SAWarning: Object of type <Acquisition> not in session, add operation along 'Company.acquisitions_as_purchasing' will not proceed (This warning originated from the Session 'autoflush' process, which was invoked automatically in response to a user-initiated operation.)\n",
      "  if not Acquisition.query.filter_by(purchased_company_id=acquisition.purchased_company_id, purchasing_company_id=acquisition.purchasing_company_id).first():\n"
     ]
    },
    {
     "name": "stdout",
     "output_type": "stream",
     "text": [
      "Error adding acquisition: \n",
      "Purchased company:  Picasa\n",
      "Purchasing company:  Appirio\n",
      "\n",
      "Error adding acquisition: \n",
      "Purchased company:  delicious\n",
      "Purchasing company:  AVOS Systems\n",
      "\n",
      "Error adding acquisition: \n",
      "Purchased company:  Trapeze Networks\n",
      "Purchasing company:  Belden\n",
      "\n",
      "Error adding acquisition: \n",
      "Purchased company:  ICQ\n",
      "Purchasing company:  Digital Sky Technologies\n",
      "\n",
      "Error adding acquisition: \n",
      "Purchased company:  GoPago\n",
      "Purchasing company:  Doubleeam\n",
      "\n",
      "Error adding acquisition: \n",
      "Purchased company:  EDS\n",
      "Purchasing company:  General Motors\n",
      "\n",
      "Error adding acquisition: \n",
      "Purchased company:  Distill\n",
      "Purchasing company:  Gild\n",
      "\n",
      "Error adding acquisition: \n",
      "Purchased company:  VeriFone\n",
      "Purchasing company:  Gores Technology Group\n",
      "\n",
      "Error adding acquisition: \n",
      "Purchased company:  DoubleClick\n",
      "Purchasing company:  Hellman & Friedman\n",
      "\n",
      "Error adding acquisition: \n",
      "Purchased company:  Medio\n",
      "Purchasing company:  HERE\n",
      "\n",
      "Error adding acquisition: \n",
      "Purchased company:  eVoice\n",
      "Purchasing company:  J2 Global Communications\n",
      "\n",
      "Error adding acquisition: \n",
      "Purchased company:  Motorola Mobility\n",
      "Purchasing company:  Lenovo\n",
      "\n",
      "Error adding acquisition: \n",
      "Purchased company:  Hotjobs\n",
      "Purchasing company:  Monster\n",
      "\n",
      "Error adding acquisition: \n",
      "Purchased company:  Nullsoft\n",
      "Purchasing company:  Radionomy\n",
      "\n",
      "Error adding acquisition: \n",
      "Purchased company:  Bebo\n",
      "Purchasing company:  Reachd\n",
      "\n",
      "Error adding acquisition: \n",
      "Purchased company:  Rent.com\n",
      "Purchasing company:  RentPath\n",
      "\n",
      "Error adding acquisition: \n",
      "Purchased company:  delicious\n",
      "Purchasing company:  Science\n",
      "\n",
      "Error adding acquisition: \n",
      "Purchased company:  McAfee\n",
      "Purchasing company:  SiteAdvisor\n",
      "\n",
      "Error adding acquisition: \n",
      "Purchased company:  OZ Communications\n",
      "Purchasing company:  Synchronica\n",
      "\n",
      "Error adding acquisition: \n",
      "Purchased company:  Zimbra\n",
      "Purchasing company:  Telligent Systems\n",
      "\n",
      "Error adding acquisition: \n",
      "Purchased company:  Greenfield Online\n",
      "Purchasing company:  Toluna\n",
      "\n",
      "Error adding acquisition: \n",
      "Purchased company:  Gracenote\n",
      "Purchasing company:  Tribune Company\n",
      "\n"
     ]
    }
   ],
   "source": [
    "for index, row in acquisitions.iterrows():\n",
    "    with app.app_context():\n",
    "        purchased_company = Company.query.filter_by(name=row['Acquired Company']).first()\n",
    "        purchasing_company = Company.query.filter_by(name=row['Acquiring Company']).first()\n",
    "        \n",
    "        if not purchased_company or not purchasing_company:\n",
    "            print(\"Error adding acquisition: \")\n",
    "            print(\"Purchased company: \", row['Acquired Company'])\n",
    "            print(\"Purchasing company: \", row['Acquiring Company'])\n",
    "            print()\n",
    "            continue\n",
    "        \n",
    "        date = row['Deal announced on'],\n",
    "        if date:\n",
    "            date = datetime.datetime.strptime(date[0], '%d/%m/%Y')\n",
    "            \n",
    "        \n",
    "        acquisition = Acquisition(\n",
    "            purchased_company = purchased_company,\n",
    "            purchasing_company = purchasing_company,\n",
    "            purchased_company_id = purchased_company.id,\n",
    "            purchasing_company_id = purchasing_company.id,\n",
    "            deal_date = date,\n",
    "            deal_value = row['Price'],\n",
    "            deal_status = row['Status'],\n",
    "            deal_terms = row['Terms'],\n",
    "            news_url = row['News Link'],\n",
    "            news_title = row['News']\n",
    "        )\n",
    "        \n",
    "        if not Acquisition.query.filter_by(purchased_company_id=acquisition.purchased_company_id, purchasing_company_id=acquisition.purchasing_company_id).first():\n",
    "            db.session.add(acquisition)\n",
    "            db.session.commit()\n",
    "            "
   ]
  },
  {
   "cell_type": "code",
   "execution_count": 15,
   "metadata": {},
   "outputs": [
    {
     "name": "stdout",
     "output_type": "stream",
     "text": [
      "Total number of acquisitions:  1620\n",
      "\n",
      "First 10 acquisitions: \n",
      "Palm  acquired by  3Com\n",
      "Accelio Corporation  acquired by  Adobe\n",
      "Aldus Corp  acquired by  Adobe\n",
      "Amicima  acquired by  Adobe\n",
      "Ares Software  acquired by  Adobe\n",
      "Auditude  acquired by  Adobe\n",
      "Behance  acquired by  Adobe\n",
      "BluePoint Technologies  acquired by  Adobe\n",
      "Day Software  acquired by  Adobe\n",
      "Demdex  acquired by  Adobe\n"
     ]
    }
   ],
   "source": [
    "with app.app_context():\n",
    "    acquisitions = Acquisition.query.all()\n",
    "    print(\"Total number of acquisitions: \", len(acquisitions))\n",
    "    print(\"\\nFirst 10 acquisitions: \")\n",
    "    for acquisition in acquisitions[:10]:\n",
    "        print(acquisition.purchased_company.name, \" acquired by \", acquisition.purchasing_company.name)"
   ]
  }
 ],
 "metadata": {
  "kernelspec": {
   "display_name": "Python 3",
   "language": "python",
   "name": "python3"
  },
  "language_info": {
   "codemirror_mode": {
    "name": "ipython",
    "version": 3
   },
   "file_extension": ".py",
   "mimetype": "text/x-python",
   "name": "python",
   "nbconvert_exporter": "python",
   "pygments_lexer": "ipython3",
   "version": "3.9.12"
  },
  "orig_nbformat": 4
 },
 "nbformat": 4,
 "nbformat_minor": 2
}
