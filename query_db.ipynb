{
 "cells": [
  {
   "cell_type": "code",
   "execution_count": 2,
   "metadata": {},
   "outputs": [],
   "source": [
    "from flask import Flask\n",
    "from flask_sqlalchemy import SQLAlchemy\n",
    "from app import app, db, Company, Acquisition\n",
    "import pandas as pd\n",
    "import datetime"
   ]
  },
  {
   "cell_type": "code",
   "execution_count": 23,
   "metadata": {},
   "outputs": [
    {
     "name": "stdout",
     "output_type": "stream",
     "text": [
      "15\n"
     ]
    }
   ],
   "source": [
    "# get google ID using context\n",
    "with app.app_context():\n",
    "    print(Company.query.filter(Company.name == 'Google').first().id)"
   ]
  },
  {
   "cell_type": "code",
   "execution_count": 37,
   "metadata": {},
   "outputs": [
    {
     "name": "stdout",
     "output_type": "stream",
     "text": [
      "Adobe\n"
     ]
    },
    {
     "name": "stderr",
     "output_type": "stream",
     "text": [
      "/var/folders/p4/bq3lmyls11s56yy7r2vv6c0r0000gn/T/ipykernel_68084/465262894.py:3: LegacyAPIWarning: The Query.get() method is considered legacy as of the 1.x series of SQLAlchemy and becomes a legacy construct in 2.0. The method is now available as Session.get() (deprecated since: 2.0) (Background on SQLAlchemy 2.0 at: https://sqlalche.me/e/b8d9)\n",
      "  print(Company.query.get(1).name)\n"
     ]
    }
   ],
   "source": [
    "# get which is id 803\n",
    "with app.app_context():\n",
    "    print(Company.query.get(1).name)"
   ]
  },
  {
   "cell_type": "code",
   "execution_count": 34,
   "metadata": {},
   "outputs": [
    {
     "name": "stdout",
     "output_type": "stream",
     "text": [
      "{'_sa_instance_state': <sqlalchemy.orm.state.InstanceState object at 0x11f287880>, 'purchasing_company_id': 803, 'purchased_company_id': 1633, 'deal_date': datetime.datetime(1997, 6, 1, 0, 0), 'deal_status': 'Undisclosed', 'news_url': 'http://news.cnet.com/Investors-bless-3Com-USR-merger/2100-1001_3-200418.html', 'id': 1, 'deal_value': 'Undisclosed amount', 'deal_terms': 'Undisclosed', 'news_title': 'Investors bless 3Com-USR merger - CNET News'}\n"
     ]
    }
   ],
   "source": [
    "# print first acquisition entirely every column\n",
    "with app.app_context():\n",
    "    a = Acquisition.query.first()\n",
    "    print(a.__dict__)\n",
    "    "
   ]
  },
  {
   "cell_type": "code",
   "execution_count": 41,
   "metadata": {},
   "outputs": [
    {
     "name": "stdout",
     "output_type": "stream",
     "text": [
      "[<Acquisition 2>, <Acquisition 3>, <Acquisition 4>, <Acquisition 5>, <Acquisition 6>, <Acquisition 7>, <Acquisition 8>, <Acquisition 9>, <Acquisition 10>, <Acquisition 11>, <Acquisition 12>, <Acquisition 13>, <Acquisition 14>, <Acquisition 15>, <Acquisition 16>, <Acquisition 17>, <Acquisition 18>, <Acquisition 19>, <Acquisition 20>, <Acquisition 21>, <Acquisition 22>, <Acquisition 23>, <Acquisition 24>, <Acquisition 25>, <Acquisition 26>, <Acquisition 27>, <Acquisition 28>, <Acquisition 29>, <Acquisition 30>, <Acquisition 31>, <Acquisition 32>, <Acquisition 33>, <Acquisition 34>, <Acquisition 35>, <Acquisition 36>, <Acquisition 37>, <Acquisition 38>, <Acquisition 39>]\n"
     ]
    }
   ],
   "source": [
    "# get the 10 most common purchasing_company_id and company name\n",
    "with app.app_context():\n",
    "    a = Acquisition.query.filter(Acquisition.purchasing_company_id == 1).limit(200).all()\n",
    "    print(a)"
   ]
  },
  {
   "cell_type": "code",
   "execution_count": 38,
   "metadata": {},
   "outputs": [
    {
     "ename": "RuntimeError",
     "evalue": "Working outside of application context.\n\nThis typically means that you attempted to use functionality that needed\nthe current application. To solve this, set up an application context\nwith app.app_context(). See the documentation for more information.",
     "output_type": "error",
     "traceback": [
      "\u001b[0;31m---------------------------------------------------------------------------\u001b[0m",
      "\u001b[0;31mRuntimeError\u001b[0m                              Traceback (most recent call last)",
      "Cell \u001b[0;32mIn[38], line 1\u001b[0m\n\u001b[0;32m----> 1\u001b[0m Acquisition\u001b[39m.\u001b[39;49mquery\u001b[39m.\u001b[39mfilter(Acquisition\u001b[39m.\u001b[39mpurchased_company_id \u001b[39m==\u001b[39m \u001b[39m1\u001b[39m)\u001b[39m.\u001b[39mlimit(\u001b[39m200\u001b[39m)\u001b[39m.\u001b[39mall()\n",
      "File \u001b[0;32m/opt/homebrew/Caskroom/miniforge/base/lib/python3.9/site-packages/flask_sqlalchemy/model.py:31\u001b[0m, in \u001b[0;36m_QueryProperty.__get__\u001b[0;34m(self, obj, cls)\u001b[0m\n\u001b[1;32m     29\u001b[0m \u001b[39mdef\u001b[39;00m \u001b[39m__get__\u001b[39m(\u001b[39mself\u001b[39m, obj: Model \u001b[39m|\u001b[39m \u001b[39mNone\u001b[39;00m, \u001b[39mcls\u001b[39m: \u001b[39mtype\u001b[39m[Model]) \u001b[39m-\u001b[39m\u001b[39m>\u001b[39m Query:\n\u001b[1;32m     30\u001b[0m     \u001b[39mreturn\u001b[39;00m \u001b[39mcls\u001b[39m\u001b[39m.\u001b[39mquery_class(\n\u001b[0;32m---> 31\u001b[0m         \u001b[39mcls\u001b[39m, session\u001b[39m=\u001b[39m\u001b[39mcls\u001b[39;49m\u001b[39m.\u001b[39;49m__fsa__\u001b[39m.\u001b[39;49msession()  \u001b[39m# type: ignore[arg-type]\u001b[39;00m\n\u001b[1;32m     32\u001b[0m     )\n",
      "File \u001b[0;32m/opt/homebrew/Caskroom/miniforge/base/lib/python3.9/site-packages/sqlalchemy/orm/scoping.py:219\u001b[0m, in \u001b[0;36mscoped_session.__call__\u001b[0;34m(self, **kw)\u001b[0m\n\u001b[1;32m    217\u001b[0m         \u001b[39mself\u001b[39m\u001b[39m.\u001b[39mregistry\u001b[39m.\u001b[39mset(sess)\n\u001b[1;32m    218\u001b[0m \u001b[39melse\u001b[39;00m:\n\u001b[0;32m--> 219\u001b[0m     sess \u001b[39m=\u001b[39m \u001b[39mself\u001b[39;49m\u001b[39m.\u001b[39;49mregistry()\n\u001b[1;32m    220\u001b[0m \u001b[39mif\u001b[39;00m \u001b[39mnot\u001b[39;00m \u001b[39mself\u001b[39m\u001b[39m.\u001b[39m_support_async \u001b[39mand\u001b[39;00m sess\u001b[39m.\u001b[39m_is_asyncio:\n\u001b[1;32m    221\u001b[0m     warn_deprecated(\n\u001b[1;32m    222\u001b[0m         \u001b[39m\"\u001b[39m\u001b[39mUsing `scoped_session` with asyncio is deprecated and \u001b[39m\u001b[39m\"\u001b[39m\n\u001b[1;32m    223\u001b[0m         \u001b[39m\"\u001b[39m\u001b[39mwill raise an error in a future version. \u001b[39m\u001b[39m\"\u001b[39m\n\u001b[1;32m    224\u001b[0m         \u001b[39m\"\u001b[39m\u001b[39mPlease use `async_scoped_session` instead.\u001b[39m\u001b[39m\"\u001b[39m,\n\u001b[1;32m    225\u001b[0m         \u001b[39m\"\u001b[39m\u001b[39m1.4.23\u001b[39m\u001b[39m\"\u001b[39m,\n\u001b[1;32m    226\u001b[0m     )\n",
      "File \u001b[0;32m/opt/homebrew/Caskroom/miniforge/base/lib/python3.9/site-packages/sqlalchemy/util/_collections.py:640\u001b[0m, in \u001b[0;36mScopedRegistry.__call__\u001b[0;34m(self)\u001b[0m\n\u001b[1;32m    639\u001b[0m \u001b[39mdef\u001b[39;00m \u001b[39m__call__\u001b[39m(\u001b[39mself\u001b[39m) \u001b[39m-\u001b[39m\u001b[39m>\u001b[39m _T:\n\u001b[0;32m--> 640\u001b[0m     key \u001b[39m=\u001b[39m \u001b[39mself\u001b[39;49m\u001b[39m.\u001b[39;49mscopefunc()\n\u001b[1;32m    641\u001b[0m     \u001b[39mtry\u001b[39;00m:\n\u001b[1;32m    642\u001b[0m         \u001b[39mreturn\u001b[39;00m \u001b[39mself\u001b[39m\u001b[39m.\u001b[39mregistry[key]  \u001b[39m# type: ignore[no-any-return]\u001b[39;00m\n",
      "File \u001b[0;32m/opt/homebrew/Caskroom/miniforge/base/lib/python3.9/site-packages/flask_sqlalchemy/session.py:102\u001b[0m, in \u001b[0;36m_app_ctx_id\u001b[0;34m()\u001b[0m\n\u001b[1;32m    100\u001b[0m \u001b[39mdef\u001b[39;00m \u001b[39m_app_ctx_id\u001b[39m() \u001b[39m-\u001b[39m\u001b[39m>\u001b[39m \u001b[39mint\u001b[39m:\n\u001b[1;32m    101\u001b[0m     \u001b[39m\"\"\"Get the id of the current Flask application context for the session scope.\"\"\"\u001b[39;00m\n\u001b[0;32m--> 102\u001b[0m     \u001b[39mreturn\u001b[39;00m \u001b[39mid\u001b[39m(app_ctx\u001b[39m.\u001b[39;49m_get_current_object())\n",
      "File \u001b[0;32m/opt/homebrew/Caskroom/miniforge/base/lib/python3.9/site-packages/werkzeug/local.py:508\u001b[0m, in \u001b[0;36mLocalProxy.__init__.<locals>._get_current_object\u001b[0;34m()\u001b[0m\n\u001b[1;32m    506\u001b[0m     obj \u001b[39m=\u001b[39m local\u001b[39m.\u001b[39mget()\n\u001b[1;32m    507\u001b[0m \u001b[39mexcept\u001b[39;00m \u001b[39mLookupError\u001b[39;00m:\n\u001b[0;32m--> 508\u001b[0m     \u001b[39mraise\u001b[39;00m \u001b[39mRuntimeError\u001b[39;00m(unbound_message) \u001b[39mfrom\u001b[39;00m \u001b[39mNone\u001b[39m\n\u001b[1;32m    510\u001b[0m \u001b[39mreturn\u001b[39;00m get_name(obj)\n",
      "\u001b[0;31mRuntimeError\u001b[0m: Working outside of application context.\n\nThis typically means that you attempted to use functionality that needed\nthe current application. To solve this, set up an application context\nwith app.app_context(). See the documentation for more information."
     ]
    }
   ],
   "source": [
    "# count how many times there are duplicate acqusitions with the same purchasing_company_id and purchased_company_id\n",
    "with app.app_context():\n",
    "    # check for duplicates\n",
    "    "
   ]
  },
  {
   "cell_type": "code",
   "execution_count": 3,
   "metadata": {},
   "outputs": [
    {
     "name": "stdout",
     "output_type": "stream",
     "text": [
      "458\n"
     ]
    }
   ],
   "source": [
    "# count how many companies with no latitude\n",
    "with app.app_context():\n",
    "    print(Company.query.filter(Company.latitude.is_(None)).count())"
   ]
  }
 ],
 "metadata": {
  "kernelspec": {
   "display_name": "base",
   "language": "python",
   "name": "python3"
  },
  "language_info": {
   "codemirror_mode": {
    "name": "ipython",
    "version": 3
   },
   "file_extension": ".py",
   "mimetype": "text/x-python",
   "name": "python",
   "nbconvert_exporter": "python",
   "pygments_lexer": "ipython3",
   "version": "3.9.12"
  },
  "orig_nbformat": 4
 },
 "nbformat": 4,
 "nbformat_minor": 2
}
